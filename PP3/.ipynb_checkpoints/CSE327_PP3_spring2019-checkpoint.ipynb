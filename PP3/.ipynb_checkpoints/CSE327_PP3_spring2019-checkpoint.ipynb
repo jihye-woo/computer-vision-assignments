{
 "cells": [
  {
   "cell_type": "markdown",
   "metadata": {
    "ein.tags": "worksheet-0",
    "slideshow": {
     "slide_type": "-"
    }
   },
   "source": [
    "# CSE327 Programming Practice 3\n",
    "**Due date: 23:59 on May 16, 2019 (Thursday)**\n",
    "\n",
    "## Description\n",
    "---\n",
    "In this programming practice, we will examine the task of scene recognition starting with\n",
    "very simple methods: tiny images and nearest neighbor classification, and then\n",
    "move on to more advanced methods: bags of quantized local features and linear\n",
    "classifiers learned by support vector machines.\n",
    "\n",
    "Bag of words models are a popular technique for image classification inspired by\n",
    "models used in natural language processing. The model ignores or downplays word\n",
    "arrangement (spatial information in the image) and classifies based on a\n",
    "histogram of the frequency of visual words. The visual word \"vocabulary\" is\n",
    "established by clustering a large corpus of local features. See Szeliski chapter\n",
    "14.4.1 for more details on category recognition with quantized features. In\n",
    "addition, 14.3.2 discusses vocabulary creation and 14.1 covers classification\n",
    "techniques.\n",
    "\n",
    "For this PP you will be implementing a basic bag of words model. You will\n",
    "classify scenes into one of 15 categories by training and testing on the 15\n",
    "scene database (introduced in [Lazebnik et al.\n",
    "2006](http://www.di.ens.fr/willow/pdfs/cvpr06b.pdf), although built on top of\n",
    "previously published datasets).\n",
    "[Lazebnik et al. 2006](http://www.di.ens.fr/willow/pdfs/cvpr06b.pdf) is a great\n",
    "paper to read, although we will be implementing the baseline method the paper\n",
    "discusses (equivalent to the zero level pyramid) and not the more sophisticated\n",
    "spatial pyramid. For an excellent survey of\n",
    "pre-deep-learning feature encoding methods for bag of words models, see\n",
    "[Chatfield et al, 2011](http://www.robots.ox.ac.uk/~vgg/research/encoding_eval/).\n",
    "\n",
    "You are required to implement 2 different image representations: tiny images and bags of SIFT features, and 2 different classification techniques: nearest neighbor and linear SVM. There are 3 problems plus a performance report in this PP with a total of 100 points. 1 bonus question with extra 10 points is provided under problem 3. The maximum points you may earn from this homework is 100 + 10 = 110 points. Be sure to read **Submission Guidelines** below. They are important.\n",
    "\n",
    "## Dataset\n",
    "---\n",
    "The starter code trains and tests on 100 images from each category (i.e. 1500\n",
    "training examples total and 1500 test cases total). In a real research paper,\n",
    "one would be expected to test performance on random splits of the data into\n",
    "training and test sets, but the starter code does not do this to ease debugging.\n",
    "\n",
    "Under your downloaded folder, there should be a folder named \"data\" (i.e. XXX/Surname_Givenname_SBUID/data) containing the images.\n",
    "**Delete** the data subfolder before submission or the Google Classroom won't let you do so because\n",
    "of the size. There should be only one .ipynb file under your root folder Surname_Givenname_SBUID.\n",
    "## Starter Code\n",
    "---\n",
    "To make your task a little easier, below we provide some starter code which\n",
    "randomly guesses the category of every test image and achieves about 6.6% accuracy\n",
    "(1 out of 15 guesses is correct)."
   ]
  },
  {
   "cell_type": "code",
   "execution_count": 1,
   "metadata": {
    "autoscroll": false,
    "ein.tags": "worksheet-0",
    "slideshow": {
     "slide_type": "-"
    }
   },
   "outputs": [],
   "source": [
    "# import packages here\n",
    "import cv2\n",
    "import numpy as np\n",
    "import matplotlib.pyplot as plt\n",
    "import glob\n",
    "import itertools\n",
    "\n",
    "\n",
    "import time\n",
    "from sklearn.neighbors import NearestNeighbors\n",
    "from sklearn.cluster import MiniBatchKMeans\n",
    "from sklearn.cluster import KMeans\n",
    "# from sklearn.externals import joblib\n",
    "from sklearn.svm import SVC\n",
    "from sklearn.metrics import confusion_matrix\n",
    "from sklearn.preprocessing import StandardScaler\n"
   ]
  },
  {
   "cell_type": "code",
   "execution_count": 2,
   "metadata": {
    "autoscroll": false,
    "ein.tags": "worksheet-0",
    "scrolled": true,
    "slideshow": {
     "slide_type": "-"
    }
   },
   "outputs": [
    {
     "name": "stdout",
     "output_type": "stream",
     "text": [
      "The accuracy of my dummy model is 5.33%\n"
     ]
    }
   ],
   "source": [
    "class_names = [name[11:] for name in glob.glob('data/train/*')]\n",
    "class_names = dict(zip(xrange(len(class_names)), class_names))\n",
    "\n",
    "def load_dataset(path, num_per_class=-1):\n",
    "    data = []\n",
    "    labels = []\n",
    "    for id, class_name in class_names.iteritems():\n",
    "        img_path_class = glob.glob(path + class_name + '/*.jpg')\n",
    "        if num_per_class > 0:\n",
    "            img_path_class = img_path_class[:num_per_class]\n",
    "        labels.extend([id]*len(img_path_class))\n",
    "        for filename in img_path_class:\n",
    "            data.append(cv2.imread(filename, 0))\n",
    "    return data, labels\n",
    "\n",
    "# load training dataset\n",
    "train_data, train_label = load_dataset('data/train/')\n",
    "train_num = len(train_label)\n",
    "\n",
    "# load testing dataset\n",
    "test_data, test_label = load_dataset('data/test/', 100)\n",
    "test_num = len(test_label)\n",
    "\n",
    "# feature extraction\n",
    "def extract_feat(raw_data):\n",
    "    feat_dim = 1000\n",
    "    feat = np.zeros((len(raw_data), feat_dim), dtype=np.float32)\n",
    "    for i in xrange(feat.shape[0]):\n",
    "        feat[i] = np.reshape(raw_data[i], (raw_data[i].size))[:feat_dim] # dummy implemtation\n",
    "        \n",
    "    return feat\n",
    "\n",
    "train_feat = extract_feat(train_data)\n",
    "test_feat = extract_feat(test_data)\n",
    "\n",
    "# model training: take feature and label, return model\n",
    "def train(X, Y):\n",
    "    return 0 # dummy implementation\n",
    "\n",
    "# prediction: take feature and model, return label\n",
    "def predict(model, x):\n",
    "    return np.random.randint(15) # dummy implementation\n",
    "\n",
    "# evaluation\n",
    "predictions = [-1]*len(test_feat)\n",
    "for i in xrange(test_num):\n",
    "    predictions[i] = predict(None, test_feat[i])\n",
    "    \n",
    "accuracy = sum(np.array(predictions) == test_label) / float(test_num)\n",
    "\n",
    "print \"The accuracy of my dummy model is {:.2f}%\".format(accuracy*100)"
   ]
  },
  {
   "cell_type": "markdown",
   "metadata": {
    "ein.tags": "worksheet-0",
    "slideshow": {
     "slide_type": "-"
    }
   },
   "source": [
    "## Problem 1: Tiny Image Representation + Nearest Neighbor Classifier\n",
    "{25 points} You will start by implementing the tiny image representation and the nearest neighbor classifier. They are easy to understand, easy to implement, and run very quickly for our experimental setup.\n",
    "\n",
    "The \"tiny image\" feature is one of the simplest possible image representations. One simply resizes each image to a small, fixed resolution. You are required to **resize the image to 16x16**. It works slightly better if the tiny image is made to have zero mean and unit length (normalization). This is not a particularly good representation, because it discards all of the high frequency image content and is not especially invariant to spatial or brightness shifts. We are using tiny images simply as a baseline.\n",
    "\n",
    "The nearest neighbor classifier is equally simple to understand. When tasked with classifying a test feature into a particular category, one simply finds the \"nearest\" training example (L2 distance is a sufficient metric) and assigns the label of that nearest training example to the test example. The nearest neighbor classifier has many desirable features — it requires no training, it can learn arbitrarily complex decision boundaries, and it trivially supports multiclass problems. It is quite vulnerable to training noise, though, which can be alleviated by voting based on the K nearest neighbors (but you are not required to do so). Nearest neighbor classifiers also suffer as the feature dimensionality increases, because the classifier has no mechanism to learn which dimensions are irrelevant for the decision.\n",
    "\n",
    "Report your classification accuracy on the test sets and time consumption.\n",
    "\n",
    "**Hints**:\n",
    "- Use [cv2.resize()](https://docs.opencv.org/2.4/modules/imgproc/doc/geometric_transformations.html#resize) to resize the images;\n",
    "- Use [NearestNeighbors in Sklearn](http://scikit-learn.org/stable/modules/neighbors.html) as your nearest neighbor classifier."
   ]
  },
  {
   "cell_type": "code",
   "execution_count": 114,
   "metadata": {},
   "outputs": [
    {
     "name": "stdout",
     "output_type": "stream",
     "text": [
      "The accuracy of tiny images model is 19.27%\n"
     ]
    }
   ],
   "source": [
    "train_feat = np.zeros((train_num, 256))\n",
    "test_feat = np.zeros((test_num, 256))\n",
    "for i in range(train_num):\n",
    "    train_feat[i] = cv2.resize(train_data[i], dsize = (16,16), interpolation=cv2.INTER_AREA).reshape(256,)\n",
    "    train_feat[i] -= np.mean(train_feat[i])\n",
    "for i in xrange(test_num):\n",
    "    test_feat[i] = cv2.resize(test_data[i], dsize= (16,16), interpolation=cv2.INTER_AREA).reshape(256,)\n",
    "    test_feat[i] -= np.mean(train_feat[i])\n",
    "nearN  = KNeighborsClassifier(n_neighbors=3, weights='distance', p=2).fit(train_feat, train_label)\n",
    "test_pred = nearN.predict(test_feat)\n",
    "\n",
    "accuracy = np.sum(test_pred == test_label) / float(test_num)\n",
    "print \"The accuracy of tiny images model is {:.2f}%\".format(accuracy*100)\n"
   ]
  },
  {
   "cell_type": "code",
   "execution_count": 6,
   "metadata": {
    "autoscroll": false,
    "ein.tags": "worksheet-0",
    "slideshow": {
     "slide_type": "-"
    }
   },
   "outputs": [
    {
     "name": "stdout",
     "output_type": "stream",
     "text": [
      "The accuracy of my dummy model is 22.60%\n",
      "('Training and testing time is ', 3.4758803153538196, 's')\n"
     ]
    }
   ],
   "source": [
    "# Write your codes here\n",
    "\n",
    "def train_and_test_C1():\n",
    "    train_feat = np.zeros((train_num, 256))\n",
    "    test_feat = np.zeros((test_num, 256))\n",
    "    for i in range(train_num):\n",
    "        train_feat[i] = cv2.resize(train_data[i], dsize = (16,16), interpolation=cv2.INTER_AREA).reshape(256,)\n",
    "        train_feat[i] -= np.mean(train_feat[i])\n",
    "    for i in xrange(test_num):\n",
    "        test_feat[i] = cv2.resize(test_data[i], dsize= (16,16), interpolation=cv2.INTER_AREA).reshape(256,)\n",
    "        test_feat[i] -= np.mean(train_feat[i])\n",
    "#     nearN  = KNeighborsClassifier(n_neighbors=3, weights='distance', p=2).fit(train_feat, train_label)\n",
    "#     test_pred = nearN.predict(test_feat)\n",
    "    #predict\n",
    "    nearN = NearestNeighbors(n_neighbors=1, algorithm=\"auto\").fit(train_feat)\n",
    "    distances, indices = nearN.kneighbors(test_feat)\n",
    "    pred1 = [train_label[int(i)] for i in indices]\n",
    "    accuracy = sum(np.array(pred1) == test_label) / float(test_num)\n",
    "    print(\"The accuracy of my dummy model is {:.2f}%\".format(accuracy*100))\n",
    "    return pred1, test_label\n",
    "\n",
    "start = time.clock()\n",
    "pred1, label1 = train_and_test_C1()\n",
    "end = time.clock()\n",
    "print(\"Training and testing time is \", end-start, \"s\")\n",
    "\n"
   ]
  },
  {
   "cell_type": "markdown",
   "metadata": {
    "ein.tags": "worksheet-0",
    "slideshow": {
     "slide_type": "-"
    }
   },
   "source": [
    "## Problem 2: Bag of SIFT Representation + Nearest Neighbor Classifer\n",
    "{35 points}\n",
    "After you have implemented a baseline scene recognition pipeline it is time to\n",
    "move on to a more sophisticated image representation — bags of quantized SIFT\n",
    "features. Before we can represent our training and testing images as bag of\n",
    "feature histograms, we first need to establish a vocabulary of visual words. We\n",
    "will form this vocabulary by sampling many local features from our training set\n",
    "(10's or 100's of thousands) and then cluster them with k-means. The number of\n",
    "k-means clusters is the size of our vocabulary and the size of our features. For\n",
    "example, you might start by clustering many SIFT descriptors into k=50 clusters.\n",
    "This partitions the continuous, 128 dimensional SIFT feature space into 50\n",
    "regions. For any new SIFT feature we observe, we can figure out which region it\n",
    "belongs to as long as we save the centroids of our original clusters. Those\n",
    "centroids are our visual word vocabulary. Because it can be slow to sample and\n",
    "cluster many local features, the starter code saves the cluster centroids and\n",
    "avoids recomputing them on future runs.\n",
    "\n",
    "Now we are ready to represent our training and testing images as histograms of\n",
    "visual words. For each image we will densely sample many SIFT descriptors.\n",
    "Instead of storing hundreds of SIFT descriptors, we simply count how many SIFT\n",
    "descriptors fall into each cluster in our visual word vocabulary. This is done\n",
    "by finding the nearest neighbor k-means centroid for every SIFT feature. Thus,\n",
    "if we have a vocabulary of 50 visual words, and we detect 220 distinct SIFT\n",
    "features in an image, our bag of SIFT representation will be a histogram of 50\n",
    "dimensions where each bin counts how many times a SIFT descriptor was assigned\n",
    "to that cluster. The total of all the bin-counts is 220. The histogram should be\n",
    "normalized so that image size does not dramatically change the bag of features\n",
    "magnitude.\n",
    "\n",
    "**Note**: \n",
    "- Instead of using SIFT to detect invariant keypoints which is time-consuming,\n",
    "  you are recommended to densely sample keypoints in a grid with certain step\n",
    "  size (sampling density) and scale.\n",
    "- There are many design decisions and free parameters for the bag of SIFT\n",
    "  representation (number of clusters, sampling density, sampling scales, SIFT\n",
    "  parameters, etc.) so accuracy might vary from 50% to 60%.\n",
    "- Indicate clearly the parameters you use along with the prediction accuracy\n",
    "  on test set and time consumption.\n",
    "\n",
    "**Hints**:\n",
    "- Use [KMeans in Sklearn](http://scikit-learn.org/stable/modules/generated/sklearn.cluster.KMeans.html)\n",
    "  to do clustering and find the nearest cluster centroid for each SIFT feature;\n",
    "- Use `cv2.xfeatures2d.SIFT_create()` to create a SIFT object;\n",
    "- Use `sift.compute()` to compute SIFT descriptors given densely sampled keypoints\n",
    "  ([cv2.Keypoint](https://docs.opencv.org/3.0-beta/modules/core/doc/basic_structures.html?highlight=keypoint#keypoint))."
   ]
  },
  {
   "cell_type": "code",
   "execution_count": 82,
   "metadata": {},
   "outputs": [],
   "source": [
    "sift = cv2.SIFT()\n",
    "descriptors_by_photo_train =[]\n",
    "alldescriptors_train = []\n",
    "for i in xrange(train_num):\n",
    "    image = train_data[i]\n",
    "    keypoint = [cv2.KeyPoint(x, y, step_sizes) for y in xrange(int(step_sizes/2), w - int(step_sizes/2), step_sizes)  \n",
    "                                            for x in xrange(0, h - int(step_sizes/2), step_sizes)]\n",
    "    keypoint, des = sift.compute(image, kp)\n",
    "#     keypoint, descriptor = sift.detectAndCompute(image, None)\n",
    "    descriptors_by_photo_train.append(descriptor)\n",
    "    alldescriptors_train.extend(descriptor)\n",
    "    # collect descriptor of train"
   ]
  },
  {
   "cell_type": "code",
   "execution_count": 86,
   "metadata": {},
   "outputs": [
    {
     "data": {
      "text/plain": [
       "MiniBatchKMeans(batch_size=100, compute_labels=True, init='k-means++',\n",
       "        init_size=None, max_iter=100, max_no_improvement=10,\n",
       "        n_clusters=200, n_init=3, random_state=None,\n",
       "        reassignment_ratio=0.01, tol=0.0, verbose=0)"
      ]
     },
     "execution_count": 86,
     "metadata": {},
     "output_type": "execute_result"
    }
   ],
   "source": [
    "K = 200\n",
    "kmeans = MiniBatchKMeans(n_clusters=K)\n",
    "kmeans.fit(np.array(alldescriptors_train)) "
   ]
  },
  {
   "cell_type": "code",
   "execution_count": 87,
   "metadata": {},
   "outputs": [],
   "source": [
    "train_bag_frequency = np.zeros((train_num, K))\n",
    "\n",
    "for i in xrange(train_num):\n",
    "    predicts = kmeans.predict(descriptors_by_photo_train[i])\n",
    "    for predN in predicts:\n",
    "        if predN <= K:\n",
    "            train_bag_frequency[i][predN] = train_bag_frequency[i][predN] + 1"
   ]
  },
  {
   "cell_type": "code",
   "execution_count": 88,
   "metadata": {},
   "outputs": [],
   "source": [
    "test_bag_frequency =  np.zeros((test_num, K))\n",
    "descriptors_by_photo_test = []\n",
    "for i in xrange(test_num):\n",
    "    image = test_data[i]\n",
    "    keypoint, descriptor = sift.detectAndCompute(image, None)\n",
    "    descriptors_by_photo_test.append(descriptor)\n",
    "    predicts = kmeans.predict(descriptors_by_photo_test[i])\n",
    "    for predN in predicts:\n",
    "        if predN <= K:\n",
    "            test_bag_frequency[i][predN] = test_bag_frequency[i][predN] + 1"
   ]
  },
  {
   "cell_type": "code",
   "execution_count": 61,
   "metadata": {},
   "outputs": [
    {
     "name": "stdout",
     "output_type": "stream",
     "text": [
      "200\n"
     ]
    }
   ],
   "source": [
    "# max = 200\n",
    "# for i in range(train_num):\n",
    "#     predict = kmeans.predict(den_sample_train[i])\n",
    "#     for p in predict:\n",
    "#         if max < p:\n",
    "#             max = p\n",
    "# print(max)"
   ]
  },
  {
   "cell_type": "code",
   "execution_count": 104,
   "metadata": {},
   "outputs": [
    {
     "name": "stdout",
     "output_type": "stream",
     "text": [
      "The accuracy of bag model is 44.20%\n"
     ]
    }
   ],
   "source": [
    "from sklearn.neighbors import KNeighborsClassifier\n",
    "neigh = KNeighborsClassifier(n_neighbors = 19, weights ='distance', p= 2)\n",
    "neigh.fit(train_bag_frequency, train_label)\n",
    "\n",
    "test_pred = neigh.predict(test_bag_frequency)\n",
    "\n",
    "accuracy = np.sum(test_pred == test_label) / float(test_num)\n",
    "\n",
    "print(\"The accuracy of bag model is {:.2f}%\".format(accuracy*100))\n"
   ]
  },
  {
   "cell_type": "code",
   "execution_count": 109,
   "metadata": {},
   "outputs": [
    {
     "name": "stdout",
     "output_type": "stream",
     "text": [
      "The accuracy of bag model is 54.87%\n",
      "('Training and testing time is ', 752.2340168825758, 's')\n"
     ]
    }
   ],
   "source": [
    "from sklearn.neighbors import KNeighborsClassifier\n",
    "K =200\n",
    "step_sizes = 10\n",
    "count = 0\n",
    "alldescriptors_train = []\n",
    "descriptors_by_photo_train = []\n",
    "descriptors_by_photo_test = []\n",
    "\n",
    "train_feat_bag = np.zeros((train_num, K))\n",
    "test_feat_bag = np.zeros((test_num, K))\n",
    "# make a bag of visual words\n",
    "\n",
    "def train_and_test_C2():\n",
    "    sift = cv2.SIFT()\n",
    "    \n",
    "    for i in xrange(train_num):\n",
    "        image = train_data[i]\n",
    "        keypoint = [cv2.KeyPoint(x, y, step_sizes) for y in xrange(int(step_sizes/2), w - int(step_sizes/2), step_sizes)  \n",
    "                                            for x in xrange(0, h - int(step_sizes/2), step_sizes)]\n",
    "        keypoint, descriptor = sift.compute(image, keypoint)\n",
    "        \n",
    "#         keypoint, descriptor = sift.detectAndCompute(image, None)\n",
    "        descriptors_by_photo_train.append(descriptor)\n",
    "        alldescriptors_train.extend(descriptor)\n",
    "    # collect descriptor of train\n",
    "\n",
    "    kmeans = MiniBatchKMeans(n_clusters=k)\n",
    "    kmeans.fit(np.array(alldescriptors_train))\n",
    "    # get model of kmeans\n",
    "\n",
    "    for i in xrange(train_num):\n",
    "        predicts = kmeans.predict(descriptors_by_photo_train[i])\n",
    "        for predN in predicts:\n",
    "            if predN <= K:\n",
    "                train_bag_frequency[i][predN] = train_bag_frequency[i][predN] + 1\n",
    "               \n",
    "    # get the frequency of predictions\n",
    "\n",
    "    for i in xrange(test_num):\n",
    "        image = test_data[i]\n",
    "        keypoint = [cv2.KeyPoint(x, y, step_sizes) for y in xrange(int(step_sizes/2), w - int(step_sizes/2), step_sizes)  \n",
    "                                            for x in xrange(0, h - int(step_sizes/2), step_sizes)]\n",
    "        keypoint, descriptor = sift.compute(image, keypoint)\n",
    "#         keypoint, descriptor = sift.detectAndCompute(image, None)\n",
    "        descriptors_by_photo_test.append(descriptor)\n",
    "        predicts = kmeans.predict(descriptors_by_photo_test[i])\n",
    "        for predN in predicts:\n",
    "            if predN <= K:\n",
    "                test_bag_frequency[i][predN] = test_bag_frequency[i][predN] + 1\n",
    "    # get the frequency of predictions       \n",
    "    \n",
    "#     #predict\n",
    "#     nbrs = NearestNeighbors(n_neighbors=1, algorithm=\"auto\").fit(train_bag_frequency)\n",
    "#     distances, indices = nbrs.kneighbors(test_bag_frequency)\n",
    "#     pred2 = [train_label[int(i)] for i in indices]\n",
    "#     #print\n",
    "#     accuracy = sum(np.array(pred2) == test_label) / float(test_num)\n",
    "#     print(\"The accuracy of bag model is {:.2f}%\".format(accuracy*100))\n",
    "\n",
    "    neigh = KNeighborsClassifier(n_neighbors = 19, weights ='distance', p= 2)\n",
    "    neigh.fit(train_bag_frequency, train_label)\n",
    "\n",
    "    pred2 = neigh.predict(test_bag_frequency)\n",
    "\n",
    "    accuracy = np.sum(pred2 == test_label) / float(test_num)\n",
    "\n",
    "    print(\"The accuracy of bag model is {:.2f}%\".format(accuracy*100))\n",
    "\n",
    "    return pred2, test_label\n",
    "    \n",
    "train_feat_bag = np.zeros((train_num, k))\n",
    "test_feat_bag = np.zeros((test_num, k))\n",
    "start = time.clock()\n",
    "pred2, label2 = train_and_test_C2()\n",
    "end = time.clock()\n",
    "print(\"Training and testing time is \", end-start, 's') "
   ]
  },
  {
   "cell_type": "markdown",
   "metadata": {
    "ein.tags": "worksheet-0",
    "slideshow": {
     "slide_type": "-"
    }
   },
   "source": [
    "## Problem 3: Bag of SIFT Representation + one-vs-all SVMs\n",
    "{20 points}\n",
    "The last task is to train one-vs-all linear SVMS to operate in the bag of SIFT\n",
    "feature space. Linear classifiers are one of the simplest possible learning\n",
    "models. The feature space is partitioned by a learned hyperplane and test cases\n",
    "are categorized based on which side of that hyperplane they fall on. Despite\n",
    "this model being far less expressive than the nearest neighbor classifier, it\n",
    "will often perform better.\n",
    "\n",
    "You do not have to implement the support vector machine. However, linear\n",
    "classifiers are inherently binary and we have a 15-way classification problem\n",
    "(the library has handled it for you). To decide which of 15 categories a test\n",
    "case belongs to, you will train 15 binary, one-vs-all SVMs. One-vs-all means\n",
    "that each classifier will be trained to recognize 'forest' vs 'non-forest',\n",
    "'kitchen' vs 'non-kitchen', etc. All 15 classifiers will be evaluated on each\n",
    "test case and the classifier which is most confidently positive \"wins\". E.g. if\n",
    "the 'kitchen' classifier returns a score of -0.2 (where 0 is on the decision\n",
    "boundary), and the 'forest' classifier returns a score of -0.3, and all of the\n",
    "other classifiers are even more negative, the test case would be classified as a\n",
    "kitchen even though none of the classifiers put the test case on the positive\n",
    "side of the decision boundary. When learning an SVM, you have a free parameter\n",
    "$\\lambda$ (lambda) which controls how strongly regularized the model is. Your\n",
    "accuracy will be very sensitive to $\\lambda$, so be sure to try many values.\n",
    "\n",
    "Indicate clearly the parameters you use along with the prediction accuracy on\n",
    "test set and time consumption.\n",
    "\n",
    "**Bonus {10 points}**: 10 points will be given to students whose accuracy\n",
    "  ranks top 3 in this homework. Don't cheat and don't train your model on\n",
    "  testing data, a separate testing dataset will be used to evaluate your model.\n",
    "\n",
    "**Hints**:\n",
    "- Use SVM in\n",
    "  [Sklearn](http://scikit-learn.org/stable/modules/classes.html#module-sklearn.svm)\n",
    "  (recommended) or\n",
    "  [OpenCV](https://docs.opencv.org/3.0-alpha/modules/ml/doc/support_vector_machines.html)\n",
    "  to do training and prediction."
   ]
  },
  {
   "cell_type": "code",
   "execution_count": null,
   "metadata": {
    "autoscroll": false,
    "ein.tags": "worksheet-0",
    "slideshow": {
     "slide_type": "-"
    }
   },
   "outputs": [],
   "source": [
    "# Write your codes here\n",
    "\n",
    "# lin_clf = svm.LinearSVC(c=15)\n",
    "# lin_clf.fit(X, Y)\n",
    "# LinearSVC(C=1.0, class_weight=None, dual=True, fit_intercept=True,\n",
    "#      intercept_scaling=1, loss='squared_hinge', max_iter=1000,\n",
    "#      multi_class='ovr', penalty='l2', random_state=None, tol=0.0001,\n",
    "#      verbose=0)\n",
    "# dec = lin_clf.decision_function([[1]])\n",
    "# dec.shape[1]\n",
    "\n",
    "clf = SVC(C=10, gamma=0.0001, decision_function_shape='ovr', random_state=0)\n",
    "clf.fit(im_features, train_label)\n",
    "\n",
    "pred3, label3 = # train_and_test(..."
   ]
  },
  {
   "cell_type": "code",
   "execution_count": 107,
   "metadata": {},
   "outputs": [
    {
     "name": "stdout",
     "output_type": "stream",
     "text": [
      "The accuracy of my dummy model is 19.93%\n",
      "('Training and testing time(using existing features) is ', 2.0792265004347428, 's')\n"
     ]
    }
   ],
   "source": [
    "def train_and_test_C3():\n",
    "    path = SVC(C=1000, gamma=0.01, decision_function_shape ='ovr').fit(train_bag_frequency, train_label)\n",
    "    predictions = path.predict(test_bag_frequency)\n",
    "    accuracy = sum(np.array(predictions) == test_label) / float(test_num)\n",
    "    print \"The accuracy of my SVC model is {:.2f}%\".format(accuracy*100)\n",
    "#     return pred3, test_label\n",
    "\n",
    "start = time.clock()\n",
    "train_and_test_C3()\n",
    "end = time.clock()\n",
    "print(\"Training and testing time(using existing features) is \", end-start, \"s\")\n",
    "# print_confusion_matrix(test_label, train_label)"
   ]
  },
  {
   "cell_type": "markdown",
   "metadata": {
    "ein.tags": "worksheet-0",
    "slideshow": {
     "slide_type": "-"
    }
   },
   "source": [
    "## Performance Report\n",
    "---\n",
    "{20 points}\n",
    "Please report the performance of the following combinations **in the given order**\n",
    "in terms of the time consumed and classification accuracy. Describe your algorithm,\n",
    "any decisions you made to write your algorithm in your particular way, and how\n",
    "different choices you made affect it. Compute and draw a (normalized) [confusion matrix](https://en.wikipedia.org/wiki/Confusion_matrix), and discuss\n",
    "where the method performs best and worse for each of the combination.\n",
    "Here is an [example](http://scikit-learn.org/stable/auto_examples/model_selection/plot_confusion_matrix.html#sphx-glr-auto-examples-model-selection-plot-confusion-matrix-py) of how to compute confusion matrix.\n",
    "\n",
    "\n",
    "1st: Tiny images representation and nearest neighbor classifier (accuracy of about 18-25%).<br>\n",
    "2nd: Bag of SIFT representation and nearest neighbor - classifier (accuracy of about 50-60%). <br>\n",
    "3rd: Bag of SIFT representation and linear SVM classifier (accuracy of about 60-70%). <br>"
   ]
  },
  {
   "cell_type": "markdown",
   "metadata": {},
   "source": [
    "**First combination:** <br>\n",
    "\n",
    "-- Time consumed and prediction accuracy\n",
    "\n",
    "-- Algorithm descriptions and discussions\n",
    "\n",
    "-- Confusion matrix observations\n",
    "\n",
    "**Second combination:** <br>\n",
    "\n",
    "-- Time consumed and prediction accuracy\n",
    "\n",
    "-- Algorithm descriptions and discussions\n",
    "\n",
    "-- Confusion matrix observations\n",
    "\n",
    "**Third combination:** <br>\n",
    "\n",
    "-- Time consumed and prediction accuracy\n",
    "\n",
    "-- Algorithm descriptions and discussions\n",
    "\n",
    "-- Confusion matrix observations"
   ]
  },
  {
   "cell_type": "code",
   "execution_count": null,
   "metadata": {
    "scrolled": false
   },
   "outputs": [],
   "source": [
    "def plot_confusion_matrix(cm, classes,\n",
    "                          normalize=False,\n",
    "                          title='Confusion matrix',\n",
    "                          cmap=plt.cm.Blues):\n",
    "    if normalize:\n",
    "        cm = cm.sctype(\"float\") / cm.sum(axis = 1)[:, np.newaxis]\n",
    "        print(\"Normalized Confusion Matrix\")\n",
    "    else:\n",
    "        print(\"Confusion Matrix, withdout Normalization\")\n",
    "    print(cm)\n",
    "    \"\"\"\n",
    "    This function prints and plots the confusion matrix.\n",
    "    Normalization can be applied by setting `normalize=True`.\n",
    "    \"\"\"\n",
    "    \n",
    "    plt.imshow(cm, interpolation ='nearest', cmap = cmap)\n",
    "    plt.colorbar()\n",
    "    \n",
    "    plt.xticks(link_maker, classes, rotation = 45)\n",
    "    plt.yticks(link_marks, classes)\n",
    "    \n",
    "    fmt = '.2f', if normalize else 'd'\n",
    "        thresh = cm.max() / 2.\n",
    "        for i in range(cm.shape[0]):\n",
    "            ax.text(j,i, format(cm[i,j], fmt),\n",
    "                    ha = \"center\", va = \"center\",\n",
    "                    color =\"white\" if cm[i,j] > thresh else \"black\")\n",
    "                   \n",
    "        plt.ylabel(\"True label\")\n",
    "        plt.xlabel(\"Predicted label\")\n",
    "        plt.tight_layout()\n",
    "        \n",
    "    \n",
    "c_names = [name[11:] for name in glob.glob('data/train/*')]\n",
    "\n",
    "#First combination:\n",
    "# Confusion matrix\n",
    "cm1 = confusion_matrix(pred1, label1)\n",
    "plt.figure(figsize=(12,12))\n",
    "plot_confusion_matrix(cm1, c_names, normalize=True)\n",
    "plt.show()\n",
    "\n",
    "#Second combination:\n",
    "# Confusion matrix\n",
    "cm2 = confusion_matrix(pred2, label2)\n",
    "plt.figure(figsize=(12,12))\n",
    "plot_confusion_matrix(cm2, c_names, normalize=True)\n",
    "plt.show()\n",
    "\n",
    "#Third combination:\n",
    "# Confusion matrix\n",
    "cm3 = confusion_matrix(pred3, label3)\n",
    "plt.figure(figsize=(12,12))\n",
    "plot_confusion_matrix(cm3, c_names, normalize=True)\n",
    "plt.show()"
   ]
  },
  {
   "cell_type": "markdown",
   "metadata": {},
   "source": [
    "## Submission guidelines\n",
    "---\n",
    "Extract the downloaded .zip file to a folder of your preference. The input and output paths are predefined and **DO NOT** change them. The image read and write functions are already written for you. \n",
    "\n",
    "When submitting your .zip file through blackboard, please <br> \n",
    "-- name your .zip file as Surname_Givenname_SBUID (example: Trump_Donald_11113456). <br>\n",
    "-- DO NOT change the folder structre, please just fill in the blanks. <br>\n",
    "\n",
    "You are encouraged to make posts and answer questions on Google Classroom. Due to the amount of emails I receive from past years, it is unfortunate that I won't be able to reply all your emails. Please ask questions on Google Classroom and send emails only when it is private.\n",
    "\n",
    "If you alter the folder strucutres, the grading of your PP will be significantly delayed and possibly penalized. And I **WILL NOT** reply to any email regarding this matter.\n",
    "\n",
    "Be aware that your codes will undergo plagiarism checker both vertically and horizontally. Please do your own work.\n",
    "\n",
    "Late submission penalty: <br>\n",
    "There will be a 10% penalty per day for late submission. However, you will have 3 days throughout the whole semester to submit late without penalty. Note that the grace period is calculated by days instead of hours. If you submit the homework one minute after the deadline, one late day will be counted. Likewise, if you submit one minute after the deadline, the 10% penaly will be imposed if not using the grace period. All late penalties incurred will be applied to your scores at the end of the semester.\n",
    "\n",
    "Some important things to note: <br>\n",
    "A correct pipeline for your submitted folder structure: <br>\n",
    "1) Download the .zip file from Google Classroom and unzip it (e.g. CSE327-PP3-Spring19.zip) <br>\n",
    "2) The unzipped folder should have name like CSE327-PP3-Spring19, rename it to Surname_Givenname_SBUID <br>\n",
    "3) Write your codes in the given .ipynb file <br>\n",
    "4) Save the visual outputs in the .ipynb file <br>\n",
    "5) Rezip your Surname_Givenname_SBUID folder and submit <br>"
   ]
  }
 ],
 "metadata": {
  "anaconda-cloud": {},
  "kernelspec": {
   "display_name": "Python 2",
   "language": "python",
   "name": "python2"
  },
  "language_info": {
   "codemirror_mode": {
    "name": "ipython",
    "version": 2
   },
   "file_extension": ".py",
   "mimetype": "text/x-python",
   "name": "python",
   "nbconvert_exporter": "python",
   "pygments_lexer": "ipython2",
   "version": "2.7.15"
  },
  "name": "HW3.ipynb"
 },
 "nbformat": 4,
 "nbformat_minor": 2
}
